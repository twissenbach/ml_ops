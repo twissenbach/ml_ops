{
 "cells": [
  {
   "cell_type": "code",
   "execution_count": 47,
   "metadata": {},
   "outputs": [],
   "source": [
    "import os\n",
    "import requests\n",
    "import faker\n",
    "import random"
   ]
  },
  {
   "cell_type": "code",
   "execution_count": 48,
   "metadata": {},
   "outputs": [],
   "source": [
    "host = 'http://127.0.0.1:5000'"
   ]
  },
  {
   "cell_type": "code",
   "execution_count": 49,
   "metadata": {},
   "outputs": [],
   "source": [
    "import logging\n",
    "import sys\n",
    "\n",
    "logging.basicConfig(level=logging.DEBUG, stream=sys.stdout)"
   ]
  },
  {
   "cell_type": "code",
   "execution_count": 54,
   "metadata": {},
   "outputs": [],
   "source": [
    "logger = logging.getLogger(__name__)"
   ]
  },
  {
   "cell_type": "code",
   "execution_count": 55,
   "metadata": {},
   "outputs": [
    {
     "name": "stdout",
     "output_type": "stream",
     "text": [
      "DEBUG:urllib3.connectionpool:Starting new HTTP connection (1): 127.0.0.1:5000\n",
      "DEBUG:urllib3.connectionpool:http://127.0.0.1:5000 \"GET /users HTTP/1.1\" 200 990\n"
     ]
    }
   ],
   "source": [
    "response = requests.get(host + '/users')\n",
    "\n",
    "response.raise_for_status()"
   ]
  },
  {
   "cell_type": "code",
   "execution_count": 56,
   "metadata": {},
   "outputs": [
    {
     "data": {
      "text/plain": [
       "[{'email': 'tallen@example.com',\n",
       "  'id': '104d3789bbe64cc5b5c6fa08b58739ff',\n",
       "  'username': 'tranheidi'},\n",
       " {'email': 'brandonjones@example.net',\n",
       "  'id': '15205e3ee2084aac84c4ef06b6214e2b',\n",
       "  'username': 'victorespinoza'},\n",
       " {'email': 'priddle@example.com',\n",
       "  'id': 'c5233ed7fdea41f3a3fe75dbf2488648',\n",
       "  'username': 'martinezmelissa'},\n",
       " {'email': 'brandon94@example.com',\n",
       "  'id': '3157f7facc5843c1bce16bb2623e73b1',\n",
       "  'username': 'garciastephen'},\n",
       " {'email': 'mlynn@example.org',\n",
       "  'id': '88dcaade7b8747dd939cf28bcd4288f0',\n",
       "  'username': 'aford'},\n",
       " {'email': 'terrijohnson@example.net',\n",
       "  'id': 'd871c5486b6c4eedaa10a7aa22bc53d8',\n",
       "  'username': 'patricia44'},\n",
       " {'email': 'walshnathan@example.com',\n",
       "  'id': '7b89601e9d8c4e5aaa337a9fe28ce5d5',\n",
       "  'username': 'dwilliams'},\n",
       " {'email': 'david03@example.com',\n",
       "  'id': '56945f65f0b0401fb8520e2a46b44c2c',\n",
       "  'username': 'cardenasanne'},\n",
       " {'email': 'davisrobert@example.com',\n",
       "  'id': '5a07230e1dd642d0b5c4c641a3b1d91f',\n",
       "  'username': 'johnsonbrandon'},\n",
       " {'email': 'carolcox@example.net',\n",
       "  'id': '9416cbab03af452babeb7d7d267f22cd',\n",
       "  'username': 'natalie10'}]"
      ]
     },
     "execution_count": 56,
     "metadata": {},
     "output_type": "execute_result"
    }
   ],
   "source": [
    "response.json()"
   ]
  },
  {
   "cell_type": "markdown",
   "metadata": {},
   "source": [
    "Design mistake: you should not allow users to define their ID"
   ]
  },
  {
   "cell_type": "code",
   "execution_count": 32,
   "metadata": {},
   "outputs": [
    {
     "name": "stdout",
     "output_type": "stream",
     "text": [
      "DEBUG:urllib3.connectionpool:Starting new HTTP connection (1): 127.0.0.1:5000\n",
      "DEBUG:urllib3.connectionpool:http://127.0.0.1:5000 \"POST /users HTTP/1.1\" 404 41\n"
     ]
    },
    {
     "ename": "HTTPError",
     "evalue": "404 Client Error: NOT FOUND for url: http://127.0.0.1:5000/users",
     "output_type": "error",
     "traceback": [
      "\u001b[0;31m---------------------------------------------------------------------------\u001b[0m",
      "\u001b[0;31mHTTPError\u001b[0m                                 Traceback (most recent call last)",
      "Cell \u001b[0;32mIn[32], line 9\u001b[0m\n\u001b[1;32m      1\u001b[0m data \u001b[38;5;241m=\u001b[39m {\n\u001b[1;32m      2\u001b[0m     \u001b[38;5;124m'\u001b[39m\u001b[38;5;124mid\u001b[39m\u001b[38;5;124m'\u001b[39m: \u001b[38;5;124m'\u001b[39m\u001b[38;5;124m1\u001b[39m\u001b[38;5;124m'\u001b[39m\n\u001b[1;32m      3\u001b[0m     , \u001b[38;5;124m'\u001b[39m\u001b[38;5;124musername\u001b[39m\u001b[38;5;124m'\u001b[39m: \u001b[38;5;124m'\u001b[39m\u001b[38;5;124mtest\u001b[39m\u001b[38;5;124m'\u001b[39m\n\u001b[1;32m      4\u001b[0m     , \u001b[38;5;124m'\u001b[39m\u001b[38;5;124memail\u001b[39m\u001b[38;5;124m'\u001b[39m: \u001b[38;5;124m'\u001b[39m\u001b[38;5;124mtest@test.com\u001b[39m\u001b[38;5;124m'\u001b[39m\n\u001b[1;32m      5\u001b[0m }\n\u001b[1;32m      7\u001b[0m response \u001b[38;5;241m=\u001b[39m requests\u001b[38;5;241m.\u001b[39mpost(host \u001b[38;5;241m+\u001b[39m \u001b[38;5;124m'\u001b[39m\u001b[38;5;124m/users\u001b[39m\u001b[38;5;124m'\u001b[39m, json\u001b[38;5;241m=\u001b[39mdata)\n\u001b[0;32m----> 9\u001b[0m \u001b[43mresponse\u001b[49m\u001b[38;5;241;43m.\u001b[39;49m\u001b[43mraise_for_status\u001b[49m\u001b[43m(\u001b[49m\u001b[43m)\u001b[49m\n",
      "File \u001b[0;32m~/Documents/Spring 2025 Classes/ml_ops/.venv/lib/python3.12/site-packages/requests/models.py:1024\u001b[0m, in \u001b[0;36mResponse.raise_for_status\u001b[0;34m(self)\u001b[0m\n\u001b[1;32m   1019\u001b[0m     http_error_msg \u001b[38;5;241m=\u001b[39m (\n\u001b[1;32m   1020\u001b[0m         \u001b[38;5;124mf\u001b[39m\u001b[38;5;124m\"\u001b[39m\u001b[38;5;132;01m{\u001b[39;00m\u001b[38;5;28mself\u001b[39m\u001b[38;5;241m.\u001b[39mstatus_code\u001b[38;5;132;01m}\u001b[39;00m\u001b[38;5;124m Server Error: \u001b[39m\u001b[38;5;132;01m{\u001b[39;00mreason\u001b[38;5;132;01m}\u001b[39;00m\u001b[38;5;124m for url: \u001b[39m\u001b[38;5;132;01m{\u001b[39;00m\u001b[38;5;28mself\u001b[39m\u001b[38;5;241m.\u001b[39murl\u001b[38;5;132;01m}\u001b[39;00m\u001b[38;5;124m\"\u001b[39m\n\u001b[1;32m   1021\u001b[0m     )\n\u001b[1;32m   1023\u001b[0m \u001b[38;5;28;01mif\u001b[39;00m http_error_msg:\n\u001b[0;32m-> 1024\u001b[0m     \u001b[38;5;28;01mraise\u001b[39;00m HTTPError(http_error_msg, response\u001b[38;5;241m=\u001b[39m\u001b[38;5;28mself\u001b[39m)\n",
      "\u001b[0;31mHTTPError\u001b[0m: 404 Client Error: NOT FOUND for url: http://127.0.0.1:5000/users"
     ]
    }
   ],
   "source": [
    "data = {\n",
    "    'id': '1'\n",
    "    , 'username': 'test'\n",
    "    , 'email': 'test@test.com'\n",
    "}\n",
    "\n",
    "response = requests.post(host + '/users', json=data)\n",
    "\n",
    "response.raise_for_status()"
   ]
  },
  {
   "cell_type": "code",
   "execution_count": 53,
   "metadata": {},
   "outputs": [
    {
     "name": "stdout",
     "output_type": "stream",
     "text": [
      "DEBUG:urllib3.connectionpool:Starting new HTTP connection (1): 127.0.0.1:5000\n",
      "DEBUG:urllib3.connectionpool:http://127.0.0.1:5000 \"POST /users HTTP/1.1\" 201 95\n",
      "DEBUG:urllib3.connectionpool:Starting new HTTP connection (1): 127.0.0.1:5000\n",
      "DEBUG:urllib3.connectionpool:http://127.0.0.1:5000 \"POST /users HTTP/1.1\" 201 106\n",
      "DEBUG:urllib3.connectionpool:Starting new HTTP connection (1): 127.0.0.1:5000\n",
      "DEBUG:urllib3.connectionpool:http://127.0.0.1:5000 \"POST /users HTTP/1.1\" 201 102\n",
      "DEBUG:urllib3.connectionpool:Starting new HTTP connection (1): 127.0.0.1:5000\n",
      "DEBUG:urllib3.connectionpool:http://127.0.0.1:5000 \"POST /users HTTP/1.1\" 201 102\n",
      "DEBUG:urllib3.connectionpool:Starting new HTTP connection (1): 127.0.0.1:5000\n",
      "DEBUG:urllib3.connectionpool:http://127.0.0.1:5000 \"POST /users HTTP/1.1\" 201 90\n",
      "DEBUG:urllib3.connectionpool:Starting new HTTP connection (1): 127.0.0.1:5000\n",
      "DEBUG:urllib3.connectionpool:http://127.0.0.1:5000 \"POST /users HTTP/1.1\" 201 102\n",
      "DEBUG:urllib3.connectionpool:Starting new HTTP connection (1): 127.0.0.1:5000\n",
      "DEBUG:urllib3.connectionpool:http://127.0.0.1:5000 \"POST /users HTTP/1.1\" 201 100\n",
      "DEBUG:urllib3.connectionpool:Starting new HTTP connection (1): 127.0.0.1:5000\n",
      "DEBUG:urllib3.connectionpool:http://127.0.0.1:5000 \"POST /users HTTP/1.1\" 201 99\n",
      "DEBUG:urllib3.connectionpool:Starting new HTTP connection (1): 127.0.0.1:5000\n",
      "DEBUG:urllib3.connectionpool:http://127.0.0.1:5000 \"POST /users HTTP/1.1\" 201 105\n",
      "DEBUG:urllib3.connectionpool:Starting new HTTP connection (1): 127.0.0.1:5000\n",
      "DEBUG:urllib3.connectionpool:http://127.0.0.1:5000 \"POST /users HTTP/1.1\" 201 97\n"
     ]
    }
   ],
   "source": [
    "fake = faker.Faker()\n",
    "\n",
    "num_users = 10\n",
    "for _ in range(num_users):\n",
    "    fake_username = fake.user_name()\n",
    "    fake_email = fake.email()\n",
    "\n",
    "    data = {\n",
    "    'id': random.randint(0, 1000000)\n",
    "    , 'username': fake_username\n",
    "    , 'email': fake_email\n",
    "    }\n",
    "\n",
    "    response = requests.post(host + '/users', json=data)\n",
    "\n",
    "    response.raise_for_status()"
   ]
  }
 ],
 "metadata": {
  "kernelspec": {
   "display_name": ".venv",
   "language": "python",
   "name": "python3"
  },
  "language_info": {
   "codemirror_mode": {
    "name": "ipython",
    "version": 3
   },
   "file_extension": ".py",
   "mimetype": "text/x-python",
   "name": "python",
   "nbconvert_exporter": "python",
   "pygments_lexer": "ipython3",
   "version": "3.12.7"
  }
 },
 "nbformat": 4,
 "nbformat_minor": 2
}
